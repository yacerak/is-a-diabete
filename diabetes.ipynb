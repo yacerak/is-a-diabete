{
  "nbformat": 4,
  "nbformat_minor": 0,
  "metadata": {
    "colab": {
      "provenance": [],
      "authorship_tag": "ABX9TyPD3W5Fj17PC9tGvYpccEdY",
      "include_colab_link": true
    },
    "kernelspec": {
      "name": "python3",
      "display_name": "Python 3"
    },
    "language_info": {
      "name": "python"
    }
  },
  "cells": [
    {
      "cell_type": "markdown",
      "metadata": {
        "id": "view-in-github",
        "colab_type": "text"
      },
      "source": [
        "<a href=\"https://colab.research.google.com/github/yacerak/is-a-diabete/blob/main/diabetes.ipynb\" target=\"_parent\"><img src=\"https://colab.research.google.com/assets/colab-badge.svg\" alt=\"Open In Colab\"/></a>"
      ]
    },
    {
      "cell_type": "code",
      "execution_count": null,
      "metadata": {
        "id": "5vJgwEdBCa0y"
      },
      "outputs": [],
      "source": [
        "import numpy as np\n",
        "import pandas as pd\n",
        "from sklearn.model_selection import train_test_split\n",
        "from sklearn.linear_model import LinearRegression, LogisticRegression\n",
        "from sklearn.ensemble import RandomForestClassifier\n",
        "from sklearn.svm import SVC\n",
        "from xgboost import XGBClassifier, XGBRegressor\n",
        "from sklearn.tree import DecisionTreeRegressor\n",
        "from sklearn.metrics import mean_squared_error, r2_score\n",
        "from sklearn.impute import SimpleImputer\n",
        "from sklearn.metrics import accuracy_score, r2_score\n",
        "from sklearn.preprocessing import StandardScaler\n",
        "from google.colab import files\n",
        "from google.colab import drive"
      ]
    },
    {
      "cell_type": "code",
      "source": [
        "drive.mount('/content/drive')"
      ],
      "metadata": {
        "colab": {
          "base_uri": "https://localhost:8080/"
        },
        "id": "b1_pt3rrhXAB",
        "outputId": "aa89d00f-cb7a-4644-b6fa-30306a30ebba"
      },
      "execution_count": null,
      "outputs": [
        {
          "output_type": "stream",
          "name": "stdout",
          "text": [
            "Mounted at /content/drive\n"
          ]
        }
      ]
    },
    {
      "cell_type": "code",
      "source": [
        "diabetes_data = pd.read_csv(\"/content/drive/My Drive/diabetes/diabetes.csv\")"
      ],
      "metadata": {
        "id": "12yqssCBhdiM"
      },
      "execution_count": null,
      "outputs": []
    },
    {
      "cell_type": "code",
      "source": [
        "X = diabetes_data.drop(columns=[\"DiabetesPedigreeFunction\", \"Outcome\"])\n",
        "y_diabetes = diabetes_data[\"Outcome\"]  # Target for diabetes prediction\n",
        "y_pedigree = diabetes_data[\"DiabetesPedigreeFunction\"]  # Target for pedigree estimation\n",
        "\n",
        "imputer = SimpleImputer(strategy='mean')\n",
        "\n",
        "X_imputed = imputer.fit_transform(X)\n",
        "\n",
        "X_train, X_test, y_diabetes_train, y_diabetes_test, y_pedigree_train, y_pedigree_test = train_test_split(\n",
        "    X_imputed, y_diabetes, y_pedigree, test_size=0.2, random_state=42\n",
        ")"
      ],
      "metadata": {
        "id": "-Bxr9cQmDX6_"
      },
      "execution_count": null,
      "outputs": []
    },
    {
      "cell_type": "markdown",
      "source": [
        "# **estimate the pedigree**"
      ],
      "metadata": {
        "id": "w1qkG2C5jyiC"
      }
    },
    {
      "cell_type": "code",
      "source": [
        "lin_model = LinearRegression()\n",
        "lin_model.fit(X_train, y_pedigree_train)\n",
        "y_lin_pred = lin_model.predict(X_test)"
      ],
      "metadata": {
        "id": "ETJkaq_Vi9j0"
      },
      "execution_count": null,
      "outputs": []
    },
    {
      "cell_type": "code",
      "source": [
        "accuracy_lin_reg = r2_score(y_pedigree_test, y_lin_pred)\n",
        "print(f\"Lineare Regression R² score: {accuracy_lin_reg:.2f}\")"
      ],
      "metadata": {
        "colab": {
          "base_uri": "https://localhost:8080/"
        },
        "id": "NWWnW3P-naql",
        "outputId": "b5b382c8-a00f-4ee2-f78e-3c1e56d3778d"
      },
      "execution_count": null,
      "outputs": [
        {
          "output_type": "stream",
          "name": "stdout",
          "text": [
            "Lineare Regression R² score: 0.09\n"
          ]
        }
      ]
    },
    {
      "cell_type": "markdown",
      "source": [
        "# **predict if diabete**"
      ],
      "metadata": {
        "id": "jay3xgEtlUtl"
      }
    },
    {
      "cell_type": "code",
      "source": [
        "svm_clf = SVC()\n",
        "svm_clf.fit(X_train, y_diabetes_train)\n",
        "y_svm_pred = svm_clf.predict(X_test)"
      ],
      "metadata": {
        "id": "BQn6zzXglRGG"
      },
      "execution_count": null,
      "outputs": []
    },
    {
      "cell_type": "code",
      "source": [
        "accuracy_svm = accuracy_score(y_diabetes_test, y_svm_pred)\n",
        "print(f\"Support Vector Machine Accuracy: {accuracy_svm:.2f}\")"
      ],
      "metadata": {
        "colab": {
          "base_uri": "https://localhost:8080/"
        },
        "id": "GChWSaH3pDqH",
        "outputId": "c0b0d4ac-6bec-4a4b-a98e-10da5b08c5b5"
      },
      "execution_count": null,
      "outputs": [
        {
          "output_type": "stream",
          "name": "stdout",
          "text": [
            "Support Vector Machine Accuracy: 0.77\n"
          ]
        }
      ]
    },
    {
      "cell_type": "code",
      "source": [
        "# diabete\n",
        "patient1 = {\n",
        "     'Pregnancies': 3,\n",
        "     'Glucose': 148,\n",
        "     'BloodPressure': 72,\n",
        "     'SkinThickness': 35,\n",
        "     'Insulin': 0,\n",
        "     'BMI': 33.6,\n",
        "     'Age': 50\n",
        " }\n",
        "# not a diabete\n",
        "patient2 = {\n",
        "     'Pregnancies': 1,\n",
        "     'Glucose': 85,\n",
        "     'BloodPressure': 66,\n",
        "     'SkinThickness': 29,\n",
        "     'Insulin': 0,\n",
        "     'BMI': 26.6,\n",
        "     'Age': 31\n",
        " }"
      ],
      "metadata": {
        "id": "5wN6zOYVwTt2"
      },
      "execution_count": null,
      "outputs": []
    },
    {
      "cell_type": "code",
      "source": [
        "def new_ptn(analysis):\n",
        "  new_patient_df = pd.DataFrame([analysis])\n",
        "  new_patient_imputed = imputer.transform(new_patient_df)\n",
        "\n",
        "  predicted_pedigree = lin_model.predict(new_patient_imputed)\n",
        "  print(\"Predicted DiabetesPedigreeFunction:\", predicted_pedigree)\n",
        "\n",
        "  predicted_outcome = svm_clf.predict(new_patient_imputed)\n",
        "  print(\"Predicted Outcome status:\", predicted_outcome)\n",
        "\n",
        "new_ptn(patient1)\n",
        "new_ptn(patient2)"
      ],
      "metadata": {
        "colab": {
          "base_uri": "https://localhost:8080/"
        },
        "id": "kvDjwKM6eaTk",
        "outputId": "95100808-b6e6-4ac0-e371-efaeb08de4ca"
      },
      "execution_count": null,
      "outputs": [
        {
          "output_type": "stream",
          "name": "stdout",
          "text": [
            "Predicted DiabetesPedigreeFunction: [0.55708205]\n",
            "Predicted Outcome status: [1]\n",
            "Predicted DiabetesPedigreeFunction: [0.43956053]\n",
            "Predicted Outcome status: [0]\n"
          ]
        }
      ]
    }
  ]
}